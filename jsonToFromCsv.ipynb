{
 "cells": [
  {
   "cell_type": "markdown",
   "metadata": {
    "deletable": true,
    "editable": true
   },
   "source": [
    "JSON to CSV"
   ]
  },
  {
   "cell_type": "code",
   "execution_count": 9,
   "metadata": {
    "collapsed": false,
    "deletable": true,
    "editable": true
   },
   "outputs": [],
   "source": [
    "import sys\n",
    "reload(sys)\n",
    "sys.setdefaultencoding(\"utf-8\")\n",
    "\n",
    "import json\n",
    "\n",
    "with open('sponsor.json') as f:\n",
    "    data = json.load(f)\n",
    "    \n",
    "print data"
   ]
  },
  {
   "cell_type": "code",
   "execution_count": 19,
   "metadata": {
    "collapsed": false,
    "deletable": true,
    "editable": true
   },
   "outputs": [],
   "source": [
    "\n",
    "data2csv = []\n",
    "for d in data:\n",
    "    for r in d['data']:\n",
    "        data2csv.append([r['level'], r['place'], r['logolink'],r['logourl'],r['name']['zh'],r['name']['en'], r['intro']['zh'], r['intro']['en']])\n",
    "    "
   ]
  },
  {
   "cell_type": "code",
   "execution_count": 20,
   "metadata": {
    "collapsed": false,
    "deletable": true,
    "editable": true
   },
   "outputs": [],
   "source": [
    "import csv\n",
    "with open(\"sponsor.csv\", 'wb') as f:\n",
    "    wr = csv.writer(f,delimiter=',', quoting=csv.QUOTE_ALL)\n",
    "    wr.writehead\n",
    "    for r in data2csv:\n",
    "        wr.writerow(r)\n"
   ]
  },
  {
   "cell_type": "markdown",
   "metadata": {
    "deletable": true,
    "editable": true
   },
   "source": [
    "CSV to JSON"
   ]
  },
  {
   "cell_type": "code",
   "execution_count": 2,
   "metadata": {
    "collapsed": false,
    "deletable": true,
    "editable": true
   },
   "outputs": [],
   "source": [
    "# Just convert a dict to a json.\n",
    "import csv \n",
    "import json\n",
    "import sys\n",
    "reload(sys)\n",
    "sys.setdefaultencoding(\"utf-8\")\n",
    "\n",
    "data = [{\"name\":{\"zh\":\"白金級\",\"en\":\"Platinum Level\"},\"data\":[]},\n",
    "        {\"name\":{\"zh\":\"金級\",\"en\":\"Gold Level\"},\"data\":[]},\n",
    "        {\"name\":{\"zh\":\"銀級\",\"en\":\"Silver Level\"},\"data\":[]},\n",
    "        {\"name\":{\"zh\":\"特殊贊助\",\"en\":\"Special Level\"},\"data\":[]},\n",
    "       ]\n",
    "with open('sponsor.csv', 'rb') as f:\n",
    "    reader = csv.reader(f, delimiter=',', quotechar='\"')\n",
    "    for row in reader:\n",
    "        sponsorInfo = {\"level\":row[0],\"place\":row[1],\"logolink\":row[2],\"logourl\":row[3],\"name\":{\"zh\":row[4].encode('utf-8'),\"en\":row[5]},\"intro\":{\"zh\":row[6].encode('utf-8'),\"en\":row[7]}}\n",
    "        data[int(row[0]) - 1][\"data\"].append(sponsorInfo)\n",
    "\n",
    "json.dump(data, open(\"sponsor.json\",\"wb\"), ensure_ascii=False)\n",
    "json.dump(data, open(\"sponsor-uncompressed.json\",\"wb\"), ensure_ascii=False,indent=2)"
   ]
  },
  {
   "cell_type": "code",
   "execution_count": 2,
   "metadata": {
    "collapsed": false,
    "deletable": true,
    "editable": true
   },
   "outputs": [],
   "source": [
    "# Keep the order in the json that use the orderedDict implement. \n",
    "import csv\n",
    "import json\n",
    "from collections import OrderedDict\n",
    "import sys\n",
    "stdin, stdout, stderr = sys.stdin, sys.stdout, sys.stderr\n",
    "reload(sys)\n",
    "sys.setdefaultencoding(\"utf-8\")\n",
    "sys.stdin, sys.stdout, sys.stderr = stdin, stdout, stderr\n",
    "\n",
    "#data = json.JSONDecoder(object_pairs_hook=OrderedDict).decode()\n",
    "data = [OrderedDict([(\"name\",OrderedDict([(\"zh\",\"白金級\"),(\"en\",\"Platinum Level\")])),(\"data\",[])]), OrderedDict([(\"name\",OrderedDict([(\"zh\",\"金級\"),(\"en\",\"Gold Level\")])),(\"data\",[])]), OrderedDict([(\"name\",OrderedDict([(\"zh\",\"銀級\"),(\"en\",\"Silver Level\")])),(\"data\",[])]), OrderedDict([(\"name\",OrderedDict([(\"zh\",\"特殊贊助\"),(\"en\",\"Special Level\")])),(\"data\",[])])]\n",
    "with open('sponsor.csv', 'rb') as f:\n",
    "    reader = csv.reader(f, delimiter=',', quotechar='\"')\n",
    "    for row in reader:\n",
    "        sponsorInfo = OrderedDict([(\"level\", row[0]), (\"place\",row[1]), (\"logolink\",row[2]),(\"logourl\",row[3]), (\"name\",OrderedDict([(\"zh\",row[4]),(\"en\",row[5])])),(\"intro\",OrderedDict([(\"zh\",row[6]),(\"en\",row[7])]))])\n",
    "        #print '{\"level\":\"%s\", \"place\":\"%s\", \"logolink\":\"%s\",\"logourl\":\"%s\", \"name\":{\"zh\":\"%s\",\"en\":\"%s\"},\"intro\":{\"zh\":%s,\"en\":%s}}'%(row[0],row[1],row[2],row[3],row[4],row[5],row[6],row[7])\n",
    "        #sponsorInfo = json.loads('{\"level\":\"%s\", \"place\":\"%s\", \"logolink\":\"%s\",\"logourl\":\"%s\", \"name\":{\"zh\":u\"%s\",\"en\":\"%s\"},\"intro\":{\"zh\":u\"%s\",\"en\":\"%s\"}}'%(row[0],row[1],row[2],row[3],row[4].decode('utf-8'),row[5],row[6].decode('utf-8'),row[7]), object_pairs_hook=OrderedDict)\n",
    "        data[int(row[0]) - 1][\"data\"].append(sponsorInfo)\n",
    "\n",
    "#print data\n",
    "\n",
    "json.dump(data, open(\"sponsor-uncompressed.json\",\"wb\"), ensure_ascii=False,indent=2)\n",
    "json.dump(data, open(\"sponsor.json\",\"wb\"), ensure_ascii=False)"
   ]
  }
 ],
 "metadata": {
  "kernelspec": {
   "display_name": "Python 2",
   "language": "python",
   "name": "python2"
  },
  "language_info": {
   "codemirror_mode": {
    "name": "ipython",
    "version": 2
   },
   "file_extension": ".py",
   "mimetype": "text/x-python",
   "name": "python",
   "nbconvert_exporter": "python",
   "pygments_lexer": "ipython2",
   "version": "2.7.12"
  }
 },
 "nbformat": 4,
 "nbformat_minor": 2
}
