{
 "cells": [
  {
   "cell_type": "markdown",
   "metadata": {
    "deletable": true,
    "editable": true
   },
   "source": [
    "JSON to CSV"
   ]
  },
  {
   "cell_type": "code",
   "execution_count": 9,
   "metadata": {
    "collapsed": false,
    "deletable": true,
    "editable": true
   },
   "outputs": [],
   "source": [
    "import sys\n",
    "reload(sys)\n",
    "sys.setdefaultencoding(\"utf-8\")\n",
    "\n",
    "import json\n",
    "\n",
    "with open('sponsor.json') as f:\n",
    "    data = json.load(f)\n",
    "    \n",
    "print data"
   ]
  },
  {
   "cell_type": "code",
   "execution_count": 19,
   "metadata": {
    "collapsed": false,
    "deletable": true,
    "editable": true
   },
   "outputs": [],
   "source": [
    "\n",
    "data2csv = []\n",
    "for d in data:\n",
    "    for r in d['data']:\n",
    "        data2csv.append([r['level'], r['place'], r['logolink'],r['logourl'],r['name']['zh'],r['name']['en'], r['intro']['zh'], r['intro']['en']])\n",
    "    "
   ]
  },
  {
   "cell_type": "code",
   "execution_count": 20,
   "metadata": {
    "collapsed": false,
    "deletable": true,
    "editable": true
   },
   "outputs": [],
   "source": [
    "import csv\n",
    "with open(\"sponsor.csv\", 'wb') as f:\n",
    "    wr = csv.writer(f,delimiter=',', quoting=csv.QUOTE_ALL)\n",
    "    wr.writehead\n",
    "    for r in data2csv:\n",
    "        wr.writerow(r)\n"
   ]
  },
  {
   "cell_type": "markdown",
   "metadata": {
    "deletable": true,
    "editable": true
   },
   "source": [
    "CSV to JSON"
   ]
  },
  {
   "cell_type": "code",
   "execution_count": 13,
   "metadata": {
    "collapsed": false,
    "deletable": true,
    "editable": true
   },
   "outputs": [],
   "source": [
    "import csv \n",
    "import json\n",
    "\n",
    "data = [{\"name\":{\"zh\":\"白金級\",\"en\":\"Platinum Level\"},\"data\":[]},\n",
    "        {\"name\":{\"zh\":\"金級\",\"en\":\"Gold Level\"},\"data\":[]},\n",
    "        {\"name\":{\"zh\":\"銀級\",\"en\":\"Silver Level\"},\"data\":[]},\n",
    "        {\"name\":{\"zh\":\"特殊贊助\",\"en\":\"Special Level\"},\"data\":[]},\n",
    "       ]\n",
    "with open('sponsor.csv', 'rb') as f:\n",
    "    reader = csv.reader(f, delimiter=',', quotechar='\"')\n",
    "    for row in reader:\n",
    "        sponsorInfo = {\"level\":row[0],\"place\":row[1],\"logolink\":row[2],\"logourl\":row[3],\"name\":{\"zh\":row[4].encode('utf-8'),\"en\":row[5]},\"intro\":{\"zh\":row[6].encode('utf-8'),\"en\":row[7]}}\n",
    "        data[int(row[0]) - 1][\"data\"].append(sponsorInfo)\n",
    "\n",
    "json.dump(data, open(\"sponsor.json\",\"wb\"), ensure_ascii=False)\n",
    "json.dump(data, open(\"sponsor-uncompressed.json\",\"wb\"), ensure_ascii=False,indent=2)"
   ]
  }
 ],
 "metadata": {
  "kernelspec": {
   "display_name": "Python 2",
   "language": "python",
   "name": "python2"
  },
  "language_info": {
   "codemirror_mode": {
    "name": "ipython",
    "version": 2
   },
   "file_extension": ".py",
   "mimetype": "text/x-python",
   "name": "python",
   "nbconvert_exporter": "python",
   "pygments_lexer": "ipython2",
   "version": "2.7.12"
  }
 },
 "nbformat": 4,
 "nbformat_minor": 2
}
